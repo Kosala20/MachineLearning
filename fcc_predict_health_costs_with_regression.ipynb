{
  "cells": [
    {
      "cell_type": "code",
      "execution_count": null,
      "metadata": {
        "id": "1rRo8oNqZ-Rj"
      },
      "outputs": [],
      "source": [
        "# Import libraries. You may or may not use all of these.\n",
        "!pip install -q git+https://github.com/tensorflow/docs\n",
        "import matplotlib.pyplot as plt\n",
        "import numpy as np\n",
        "import pandas as pd\n",
        "\n",
        "try:\n",
        "  # %tensorflow_version only exists in Colab.\n",
        "  %tensorflow_version 2.x\n",
        "except Exception:\n",
        "  pass\n",
        "import tensorflow as tf\n",
        "\n",
        "from tensorflow import keras\n",
        "from tensorflow.keras import layers\n",
        "\n",
        "import tensorflow_docs as tfdocs\n",
        "import tensorflow_docs.plots\n",
        "import tensorflow_docs.modeling"
      ]
    },
    {
      "cell_type": "code",
      "execution_count": null,
      "metadata": {
        "id": "CiX2FI4gZtTt"
      },
      "outputs": [],
      "source": [
        "# Import data\n",
        "!wget https://cdn.freecodecamp.org/project-data/health-costs/insurance.csv\n",
        "dataset = pd.read_csv('insurance.csv')\n",
        "dataset.tail()"
      ]
    },
    {
      "cell_type": "code",
      "execution_count": null,
      "metadata": {
        "id": "LcopvQh3X-kX"
      },
      "outputs": [],
      "source": [
        "# Encoding categorical columns\n",
        "dataset_Encode = dataset.copy()\n",
        "dataset_Encode = pd.get_dummies(dataset_Encode, columns=['sex'],prefix=['sex'])\n",
        "dataset_Encode = pd.get_dummies(dataset_Encode, columns=['smoker'],prefix=['smoker'])\n",
        "dataset_Encode = pd.get_dummies(dataset_Encode, columns=['region'],prefix=['region'])\n",
        "labels = dataset_Encode.pop('expenses')"
      ]
    },
    {
      "cell_type": "code",
      "source": [
        "#80%            20%\n",
        "#train_dataset  test_dataset\n",
        "#train_labels   test_labels\n",
        "from sklearn.model_selection import train_test_split\n",
        "train_dataset, test_dataset, train_labels, test_labels = train_test_split( dataset_Encode,labels, test_size=0.2, random_state=1)\n",
        "print (dataset_Encode.shape, train_dataset.shape,  test_dataset.shape, train_labels.shape, test_labels.shape)\n",
        "print(len(train_dataset.keys()))"
      ],
      "metadata": {
        "id": "h8Ah0eZbfLCj"
      },
      "execution_count": null,
      "outputs": []
    },
    {
      "cell_type": "code",
      "source": [
        "model = keras.Sequential([\n",
        "    keras.layers.Flatten(input_shape=[len(train_dataset.keys())]), # input layer (1)\n",
        "    keras.layers.Dense(64, activation='relu'),  # hidden layer (2)\n",
        "    keras.layers.Dense(64, activation='relu'),  # hidden layer (3)\n",
        "    keras.layers.Dense(1, activation='relu') # output layer (4)\n",
        "])\n",
        "model.compile(optimizer='adam',\n",
        "              loss ='mape',\n",
        "              metrics=['mae', 'mse'])\n",
        "model.fit(train_dataset, train_labels, epochs=300)"
      ],
      "metadata": {
        "id": "t2_RlNvrfeza"
      },
      "execution_count": null,
      "outputs": []
    },
    {
      "cell_type": "code",
      "source": [
        "model = keras.Sequential([\n",
        "    keras.layers.Flatten(input_shape=[len(train_dataset.keys())]), # input layer (1)\n",
        "    keras.layers.Dense(64, activation='relu'),  # hidden layer (2)\n",
        "    keras.layers.Dense(64, activation='relu'),  # hidden layer (3)\n",
        "    keras.layers.Dense(1, activation='relu') # output layer (4)\n",
        "])\n",
        "model.compile(optimizer='adam',\n",
        "              loss ='mape',\n",
        "              metrics=['mae', 'mse'])\n",
        "model.fit(train_dataset, train_labels, epochs=300)"
      ],
      "metadata": {
        "id": "ZkWWg2rmhmaD"
      },
      "execution_count": null,
      "outputs": []
    },
    {
      "cell_type": "code",
      "execution_count": null,
      "metadata": {
        "id": "Xe7RXH3N3CWU"
      },
      "outputs": [],
      "source": [
        "# RUN THIS CELL TO TEST YOUR MODEL. DO NOT MODIFY CONTENTS.\n",
        "# Test model by checking how well the model generalizes using the test set.\n",
        "loss, mae, mse = model.evaluate(test_dataset, test_labels, verbose=2)\n",
        "\n",
        "print(\"Testing set Mean Abs Error: {:5.2f} expenses\".format(mae))\n",
        "\n",
        "if mae < 3500:\n",
        "  print(\"You passed the challenge. Great job!\")\n",
        "else:\n",
        "  print(\"The Mean Abs Error must be less than 3500. Keep trying.\")\n",
        "\n",
        "# Plot predictions.\n",
        "test_predictions = model.predict(test_dataset).flatten()\n",
        "\n",
        "a = plt.axes(aspect='equal')\n",
        "plt.scatter(test_labels, test_predictions)\n",
        "plt.xlabel('True values (expenses)')\n",
        "plt.ylabel('Predictions (expenses)')\n",
        "lims = [0, 50000]\n",
        "plt.xlim(lims)\n",
        "plt.ylim(lims)\n",
        "_ = plt.plot(lims,lims)\n"
      ]
    }
  ],
  "metadata": {
    "colab": {
      "name": "fcc_predict_health_costs_with_regression.ipynb",
      "private_outputs": true,
      "provenance": [],
      "toc_visible": true
    },
    "kernelspec": {
      "display_name": "Python 3",
      "name": "python3"
    }
  },
  "nbformat": 4,
  "nbformat_minor": 0
}